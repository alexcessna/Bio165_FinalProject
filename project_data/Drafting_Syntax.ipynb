{
 "cells": [
  {
   "cell_type": "code",
   "execution_count": 2,
   "id": "da0b8bb1-0fbb-43d8-a679-debe98bf14bb",
   "metadata": {
    "tags": []
   },
   "outputs": [],
   "source": [
    "#as always, let's start by loading some required python modules\n",
    "import numpy as np\n",
    "import matplotlib.pyplot as plt\n",
    "import scipy.integrate as spi\n",
    "import pandas as pd\n",
    "\n",
    "# Loading the dataset into the repository\n",
    "Total_data=pd.read_csv(\"../project_data/Bio165_InfluenzaAIGG_Assay.csv\")"
   ]
  },
  {
   "cell_type": "code",
   "execution_count": null,
   "id": "b92933c9-2a40-44cd-9af7-f9dc4d45df6b",
   "metadata": {},
   "outputs": [],
   "source": [
    "# Saving columns for plotting: \n",
    "Time =  Total_data['day']"
   ]
  },
  {
   "cell_type": "code",
   "execution_count": 25,
   "id": "a879c610-bac1-4305-9a70-fc347be7749e",
   "metadata": {
    "tags": []
   },
   "outputs": [
    {
     "name": "stderr",
     "output_type": "stream",
     "text": [
      "/Users/abubakrsangare/anaconda3/lib/python3.11/site-packages/pandas/core/arraylike.py:396: RuntimeWarning: divide by zero encountered in log2\n",
      "  result = getattr(ufunc, method)(*inputs, **kwargs)\n"
     ]
    }
   ],
   "source": [
    "# Add new column for each data transformation: \n",
    "\n",
    "# NEED TO ADJUST AND FIGURE OUT WHAT THE DATA TRANSFORMATION WAS\n",
    "\n",
    "Total_data[\"log2_Ctrl\"]=np.log2(Total_data[\"Ctrl\"])\n",
    "Total_data[\"log2_Vax\"]=np.log2(Total_data[\"Vax\"])\n",
    "Total_data[\"log2_IFNB\"]=np.log2(Total_data[\"IFNB\"])\n",
    "Total_data[\"log2_Vax_IFNB\"]=np.log2(Total_data[\"Vax_IFNB\"])                                                                                                                                           "
   ]
  },
  {
   "cell_type": "code",
   "execution_count": 9,
   "id": "8153fa60-c974-4f6e-89c4-dcf9a8cd8f4f",
   "metadata": {
    "tags": []
   },
   "outputs": [],
   "source": [
    "# Extracting each column in preparation for the log transformations\n",
    "untrans_Ctrl = Total_data['Ctrl']  \n",
    "untrans_Vax = Total_data['Vax']\n",
    "untrans_IFNB = Total_data['IFNB']\n",
    "untrans_Vax_IFNB = Total_data['Vax_IFNB']"
   ]
  },
  {
   "cell_type": "code",
   "execution_count": 24,
   "id": "fb0014b7-a40e-4ba6-8032-4383ca66ee29",
   "metadata": {
    "tags": []
   },
   "outputs": [
    {
     "data": {
      "text/html": [
       "<div>\n",
       "<style scoped>\n",
       "    .dataframe tbody tr th:only-of-type {\n",
       "        vertical-align: middle;\n",
       "    }\n",
       "\n",
       "    .dataframe tbody tr th {\n",
       "        vertical-align: top;\n",
       "    }\n",
       "\n",
       "    .dataframe thead th {\n",
       "        text-align: right;\n",
       "    }\n",
       "</style>\n",
       "<table border=\"1\" class=\"dataframe\">\n",
       "  <thead>\n",
       "    <tr style=\"text-align: right;\">\n",
       "      <th></th>\n",
       "      <th>sti_</th>\n",
       "      <th>day_</th>\n",
       "      <th>Ctrl_std</th>\n",
       "      <th>Ctrl_mean</th>\n",
       "      <th>Vax_std</th>\n",
       "      <th>Vax_mean</th>\n",
       "      <th>IFNB_std</th>\n",
       "      <th>IFNB_mean</th>\n",
       "      <th>Vax_IFNB_std</th>\n",
       "      <th>Vax_IFNB_mean</th>\n",
       "    </tr>\n",
       "  </thead>\n",
       "  <tbody>\n",
       "    <tr>\n",
       "      <th>0</th>\n",
       "      <td>IIV</td>\n",
       "      <td>3</td>\n",
       "      <td>1.267538</td>\n",
       "      <td>4.865931</td>\n",
       "      <td>2.652989</td>\n",
       "      <td>3.538942</td>\n",
       "      <td>2.566489</td>\n",
       "      <td>4.284288</td>\n",
       "      <td>2.760186</td>\n",
       "      <td>6.375904</td>\n",
       "    </tr>\n",
       "    <tr>\n",
       "      <th>1</th>\n",
       "      <td>IIV</td>\n",
       "      <td>7</td>\n",
       "      <td>1.167828</td>\n",
       "      <td>5.572559</td>\n",
       "      <td>2.346109</td>\n",
       "      <td>9.103023</td>\n",
       "      <td>3.822737</td>\n",
       "      <td>6.235578</td>\n",
       "      <td>1.078652</td>\n",
       "      <td>11.855246</td>\n",
       "    </tr>\n",
       "    <tr>\n",
       "      <th>2</th>\n",
       "      <td>IIV</td>\n",
       "      <td>10</td>\n",
       "      <td>1.131868</td>\n",
       "      <td>5.556852</td>\n",
       "      <td>1.522383</td>\n",
       "      <td>9.606592</td>\n",
       "      <td>4.376315</td>\n",
       "      <td>5.853949</td>\n",
       "      <td>1.506066</td>\n",
       "      <td>11.692530</td>\n",
       "    </tr>\n",
       "    <tr>\n",
       "      <th>3</th>\n",
       "      <td>LAIV</td>\n",
       "      <td>3</td>\n",
       "      <td>2.042530</td>\n",
       "      <td>4.201286</td>\n",
       "      <td>2.589663</td>\n",
       "      <td>6.626303</td>\n",
       "      <td>2.063915</td>\n",
       "      <td>5.656575</td>\n",
       "      <td>1.963120</td>\n",
       "      <td>7.967253</td>\n",
       "    </tr>\n",
       "    <tr>\n",
       "      <th>4</th>\n",
       "      <td>LAIV</td>\n",
       "      <td>7</td>\n",
       "      <td>3.249440</td>\n",
       "      <td>4.009043</td>\n",
       "      <td>1.712749</td>\n",
       "      <td>11.030848</td>\n",
       "      <td>2.782359</td>\n",
       "      <td>7.786935</td>\n",
       "      <td>1.134803</td>\n",
       "      <td>11.230518</td>\n",
       "    </tr>\n",
       "    <tr>\n",
       "      <th>5</th>\n",
       "      <td>LAIV</td>\n",
       "      <td>10</td>\n",
       "      <td>2.700973</td>\n",
       "      <td>4.033554</td>\n",
       "      <td>1.695154</td>\n",
       "      <td>11.149275</td>\n",
       "      <td>3.143026</td>\n",
       "      <td>7.475857</td>\n",
       "      <td>1.066370</td>\n",
       "      <td>11.192619</td>\n",
       "    </tr>\n",
       "  </tbody>\n",
       "</table>\n",
       "</div>"
      ],
      "text/plain": [
       "   sti_  day_  Ctrl_std  Ctrl_mean   Vax_std   Vax_mean  IFNB_std  IFNB_mean  \\\n",
       "0   IIV     3  1.267538   4.865931  2.652989   3.538942  2.566489   4.284288   \n",
       "1   IIV     7  1.167828   5.572559  2.346109   9.103023  3.822737   6.235578   \n",
       "2   IIV    10  1.131868   5.556852  1.522383   9.606592  4.376315   5.853949   \n",
       "3  LAIV     3  2.042530   4.201286  2.589663   6.626303  2.063915   5.656575   \n",
       "4  LAIV     7  3.249440   4.009043  1.712749  11.030848  2.782359   7.786935   \n",
       "5  LAIV    10  2.700973   4.033554  1.695154  11.149275  3.143026   7.475857   \n",
       "\n",
       "   Vax_IFNB_std  Vax_IFNB_mean  \n",
       "0      2.760186       6.375904  \n",
       "1      1.078652      11.855246  \n",
       "2      1.506066      11.692530  \n",
       "3      1.963120       7.967253  \n",
       "4      1.134803      11.230518  \n",
       "5      1.066370      11.192619  "
      ]
     },
     "metadata": {},
     "output_type": "display_data"
    }
   ],
   "source": [
    "# Group dataframe by the different columns––want to seperate IIV from LAIV conditions first\n",
    "mean_Total_data = Total_data.groupby([\"sti\",\"day\"], as_index=False).agg({\"Ctrl\": ['std','mean'],\"Vax\": ['std','mean'],\"IFNB\": ['std','mean'], \"Vax_IFNB\": ['std','mean']})\n",
    "mean_Total_data.columns = mean_Total_data.columns.map('_'.join)\n",
    "display(mean_Total_data)"
   ]
  },
  {
   "cell_type": "code",
   "execution_count": null,
   "id": "d328c42e-b40e-4105-bd78-045947c65250",
   "metadata": {},
   "outputs": [],
   "source": [
    "# Doing the log transformation on the averaged data\n",
    "nonave_Ctrl = np.log2(untrans_Ctrl)\n",
    "nonave_Vax = np.log2(untrans_Vax)\n",
    "nonave_IFNB = np.log2(untrans_IFNB)\n",
    "nonave_Vax_IFNB = np.log2(untrans_Vax_IFNB)"
   ]
  },
  {
   "cell_type": "code",
   "execution_count": null,
   "id": "7c1a24d2-caec-439c-8537-abfaaf85b685",
   "metadata": {},
   "outputs": [],
   "source": [
    "# Now, we generate the first plot(s): \n",
    "\n",
    "plt.scatter(x, y)\n",
    "plt.xlabel('Ribosomal Protein')\n",
    "plt.ylabel('Growth Rate')"
   ]
  }
 ],
 "metadata": {
  "kernelspec": {
   "display_name": "Python 3 (ipykernel)",
   "language": "python",
   "name": "python3"
  },
  "language_info": {
   "codemirror_mode": {
    "name": "ipython",
    "version": 3
   },
   "file_extension": ".py",
   "mimetype": "text/x-python",
   "name": "python",
   "nbconvert_exporter": "python",
   "pygments_lexer": "ipython3",
   "version": "3.11.5"
  }
 },
 "nbformat": 4,
 "nbformat_minor": 5
}
